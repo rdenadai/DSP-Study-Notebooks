{
  "nbformat": 4,
  "nbformat_minor": 0,
  "metadata": {
    "colab": {
      "name": "dsp101c.ipynb",
      "version": "0.3.2",
      "provenance": [],
      "collapsed_sections": [],
      "include_colab_link": true
    },
    "kernelspec": {
      "name": "python3",
      "display_name": "Python 3"
    },
    "accelerator": "GPU"
  },
  "cells": [
    {
      "cell_type": "markdown",
      "metadata": {
        "id": "view-in-github",
        "colab_type": "text"
      },
      "source": [
        "[View in Colaboratory](https://colab.research.google.com/github/rdenadai/dsp_study_notebooks/blob/master/notebooks/dsp101c.ipynb)"
      ]
    },
    {
      "metadata": {
        "id": "B6azsBGP6zwU",
        "colab_type": "text"
      },
      "cell_type": "markdown",
      "source": [
        "## DSP 101c\n",
        "\n",
        "Experiments on Digital Signal Processing, ranging from random generated signals, voice and images!\n",
        "\n",
        "In these experiments, we are not analysing signals in the range of DSP but also with an statistical view...\n",
        "\n",
        "To build this document we use a lot of resources, here are some of the most important.\n",
        "- References:\n",
        " - [DSP Guide](http://www.dspguide.com)\n",
        " - [Elegant SciPy](https://github.com/elegant-scipy/elegant-scipy)\n",
        " - [DSP Tutorial](https://www.tutorialspoint.com/digital_signal_processing/index.htm)\n",
        " - [Plotly FFT Filters](https://plot.ly/python/fft-filters/)\n",
        " - [Digital Signal Processing {youtube}](https://www.youtube.com/playlist?list=PLuh62Q4Sv7BUSzx5Jr8Wrxxn-U10qG1et)\n",
        " - [Signal Processing 101 {youtube}](https://www.youtube.com/watch?v=KZd68xgasIU&list=PLJ-OcUCIty7evBmHvYRv66RcuziszpSFB)\n",
        " - [All Signal Processing {youtube}](https://www.youtube.com/user/allsignalprocessing/playlists)\n"
      ]
    },
    {
      "metadata": {
        "id": "mQtD2yN66xPu",
        "colab_type": "code",
        "colab": {}
      },
      "cell_type": "code",
      "source": [
        "import math\n",
        "import random\n",
        "import numpy as np\n",
        "import pandas as pd\n",
        "from scipy.stats import norm\n",
        "from scipy.signal import resample\n",
        "from scipy import interpolate\n",
        "from scipy import signal\n",
        "from scipy import fftpack\n",
        "import matplotlib.pyplot as plt\n",
        "import matplotlib.image as mpimg\n",
        "from mpl_toolkits.axes_grid1 import ImageGrid\n",
        "from IPython.display import Audio\n",
        "\n",
        "%matplotlib inline\n",
        "\n",
        "def normalization(x, m=255):\n",
        "    return (((x - min(x)) / (max(x) - min(x))) * m).astype('int64')\n",
        "\n",
        "def normalization2(x, a, b):\n",
        "    return (a + (((x - min(x)) * (b - a)) / (max(x) - min(x)))).astype('float64')"
      ],
      "execution_count": 0,
      "outputs": []
    },
    {
      "metadata": {
        "id": "TrZo300j65si",
        "colab_type": "code",
        "colab": {}
      },
      "cell_type": "code",
      "source": [
        "def sine(A=4096, f=1, t=1, Fs=1024, phi=0):\n",
        "    # A = 4096              # amplitude (deslocamento vertical)\n",
        "    # phi = 0               # fase (deslocamento horizontal)\n",
        "    # f = 1                 # frequencia em hz (quantas oscilações em 1 segundo)\n",
        "    # t = 1                 # tempo em segundos\n",
        "    # Fs = 200              # frequencia de amostragem (pontos por segundo)\n",
        "    n = np.arange(Fs * t)\n",
        "    return (A * np.sin((((2 * np.pi * f) * n) / Fs) + phi)).astype('int64')\n",
        "\n",
        "def resamp_presenter(x, num):\n",
        "    y = np.zeros(x.size)\n",
        "    y[y==0] = np.nan\n",
        "    y[::num] = x[::num]\n",
        "    return y, math.ceil(len(x) / num)\n",
        "\n",
        "def resamp(x, num):\n",
        "    return x[::num]"
      ],
      "execution_count": 0,
      "outputs": []
    },
    {
      "metadata": {
        "id": "d5jGpZrx7DWE",
        "colab_type": "text"
      },
      "cell_type": "markdown",
      "source": [
        "## Discrete Fourier Transform\n",
        "\n",
        "> \"*In mathematics, the discrete Fourier transform (DFT) converts a finite sequence of equally-spaced samples of a function into a same-length sequence of equally-spaced samples of the discrete-time Fourier transform (DTFT), which is a complex-valued function of frequency.*\" [wiki](https://en.wikipedia.org/wiki/Discrete_Fourier_transform)\n",
        "\n",
        "[DSP Guide](http://www.dspguide.com/ch8/1.htm) define 4 types of Fourir Transform depending on signal:\n",
        "\n",
        "**Aperiodic-Continuous:**\n",
        "\n",
        "This includes, for example, decaying exponentials and the Gaussian curve. These signals extend to both positive and negative infinity without repeating in a periodic pattern. The Fourier Transform for this type of signal is simply called the Fourier Transform.\n",
        "\n",
        "**Periodic-Continuous:**\n",
        "\n",
        "Here the examples include: sine waves, square waves, and any waveform that repeats itself in a regular pattern from negative to positive infinity. This version of the Fourier transform is called the Fourier Series.\n",
        "\n",
        "**Aperiodic-Discrete:**\n",
        "\n",
        "These signals are only defined at discrete points between positive and negative infinity, and do not repeat themselves in a periodic fashion. This type of Fourier transform is called the Discrete Time Fourier Transform.\n",
        "\n",
        "**Periodic-Discrete:**\n",
        "\n",
        "These are discrete signals that repeat themselves in a periodic fashion from negative to positive infinity. This class of Fourier Transform is sometimes called the Discrete Fourier Series, but is most often called the Discrete Fourier Transform.\n",
        "\n",
        "------------------------------------\n",
        "\"*The **FFT** is a fast, $O[NlogN]$ algorithm to compute the Discrete Fourier Transform (DFT), which naively is an $O[N^2]$ computation. The DFT, like the more familiar continuous version of the Fourier transform, has a forward and inverse form which are defined as follows:*\" [jakevdp](https://jakevdp.github.io/blog/2013/08/28/understanding-the-fft/)\n",
        "\n",
        "**Forward Discrete Fourier Transform (DFT):**\n",
        "\n",
        "$ X_k=\\sum_{n=0}^{N−1}x_ne^{−i 2\\pi k n / N} $\n",
        "\n",
        "**Inverse Discrete Fourier Transform (IDFT):**\n",
        "\n",
        "$ x_n=\\frac{1}{N}\\sum_{k=0}^{N−1}X_ke^{i 2\\pi k n / N} $"
      ]
    },
    {
      "metadata": {
        "id": "jNnd8xcz5bsB",
        "colab_type": "code",
        "colab": {
          "base_uri": "https://localhost:8080/",
          "height": 316
        },
        "outputId": "ac8d2140-ba9f-4c1a-a8b2-2d34e56922c9"
      },
      "cell_type": "code",
      "source": [
        "z = np.ones(10)\n",
        "#z[::2] = -1\n",
        "Z = fftpack.fft(z)\n",
        "\n",
        "print(f'FFT of Z: {Z}')\n",
        "\n",
        "fig = plt.figure(figsize=(17, 4))\n",
        "plt.subplot(121)\n",
        "plt.title('Input Signal : z[n]')\n",
        "plt.stem(z)\n",
        "plt.subplot(122)\n",
        "plt.title('FFT : Z[n]')\n",
        "plt.stem(Z.real)\n",
        "plt.show()"
      ],
      "execution_count": 5,
      "outputs": [
        {
          "output_type": "stream",
          "text": [
            "FFT of Z: [10.+0.j  0.+0.j  0.+0.j  0.+0.j  0.+0.j  0.+0.j  0.-0.j  0.-0.j  0.-0.j\n",
            "  0.-0.j]\n"
          ],
          "name": "stdout"
        },
        {
          "output_type": "display_data",
          "data": {
            "image/png": "[encoded data removed]",
            "text/plain": [
              "<matplotlib.figure.Figure at 0x7f4ad1018ba8>"
            ]
          },
          "metadata": {
            "tags": []
          }
        }
      ]
    },
    {
      "metadata": {
        "id": "d1g_ljx36trd",
        "colab_type": "text"
      },
      "cell_type": "markdown",
      "source": [
        "Bellow is an example of FFT use, two different frequency sinusoids are merged together and it's frequency domain spectre are show two different frequencies.\n",
        "\n",
        "A low frequency at 50 Hz and high frequency at 150 Hz."
      ]
    },
    {
      "metadata": {
        "id": "W9Sq_ZIx66Mb",
        "colab_type": "code",
        "colab": {
          "base_uri": "https://localhost:8080/",
          "height": 280
        },
        "outputId": "a3b85bab-e081-4c8c-a9b1-d3e26136c537"
      },
      "cell_type": "code",
      "source": [
        "x = sine(f=50, t=1) + sine(A=16000, f=150, t=1)\n",
        "X_sc = np.abs(np.fft.fftshift(fftpack.fft(x)))\n",
        "X_np = np.abs(np.fft.fftshift(np.fft.fft(x)))\n",
        "\n",
        "fig = plt.figure(figsize=(17, 4))\n",
        "plt.subplot(131)\n",
        "plt.title('Input Signal : x[n]')\n",
        "plt.plot(x)\n",
        "plt.subplot(132)\n",
        "plt.title('FFT using scipy : X[n]')\n",
        "plt.plot(X_sc, color='C2')\n",
        "plt.subplot(133)\n",
        "plt.title('FFT using numpy : X[n]')\n",
        "plt.plot(X_np, color='C3')\n",
        "plt.show()"
      ],
      "execution_count": 6,
      "outputs": [
        {
          "output_type": "display_data",
          "data": {
            "image/png": "[encoded data removed]",
            "text/plain": [
              "<matplotlib.figure.Figure at 0x7f4ad106f3c8>"
            ]
          },
          "metadata": {
            "tags": []
          }
        }
      ]
    },
    {
      "metadata": {
        "id": "EvRgkjb8UMyE",
        "colab_type": "text"
      },
      "cell_type": "markdown",
      "source": [
        "### Complex number\n",
        "\n",
        "> \"*Note that the FFT returns a complex spectrum that, in the case of real inputs, is conjugate symmetrical (i.e., symmetric in the real part and antisymmetric in the imaginary part)*\" [Elegant SciPy](https://github.com/elegant-scipy/elegant-scipy/blob/master/markdown/ch4.markdown)\n",
        "\n",
        "The above sentence is better viewed in the image bellow:\n",
        "\n",
        "![title](https://upload.wikimedia.org/wikipedia/commons/thumb/6/69/Complex_conjugate_picture.svg/300px-Complex_conjugate_picture.svg.png)\n",
        "\n",
        "The code bellow we prove the above setence, showing the values of an sinusoid with frequency of 1Hz and 10 samples. We extract each value of it's FFT and calculate the difference between it's real part and imaginary part.\n"
      ]
    },
    {
      "metadata": {
        "id": "Wzbfhj51cXI8",
        "colab_type": "code",
        "colab": {
          "base_uri": "https://localhost:8080/",
          "height": 553
        },
        "outputId": "3521f098-7068-41be-c663-73938b0a47fc"
      },
      "cell_type": "code",
      "source": [
        "x = sine(A=10, f=1, t=1, Fs=10)\n",
        "X = fftpack.fft(x)\n",
        "\n",
        "print(f'Input signal : x[n] : \\n{x}\\n')\n",
        "print(f'FFT          : X[n] : \\n{X}\\n')\n",
        "\n",
        "for i in range(1, len(X) // 2):\n",
        "    print('-' * 10)\n",
        "    print(f'{i} <=> {-i}')\n",
        "    print(f'{X[i]} <=> {X[-i]}')\n",
        "    print('Real part diff: ', X[i].real - X[-i].real)\n",
        "    print('Imaginary part diff: ', X[i].imag + X[-i].imag)\n",
        "\n",
        "# np.fft.fftfreq(x.size, d=.1)"
      ],
      "execution_count": 17,
      "outputs": [
        {
          "output_type": "stream",
          "text": [
            "Input signal : x[n] : \n",
            "[ 0  5  9  9  5  0 -5 -9 -9 -5]\n",
            "\n",
            "FFT          : X[n] : \n",
            "[ 0.00000000e+00+0.00000000e+00j  0.00000000e+00-4.59937396e+01j\n",
            " -9.43689571e-16-1.55431223e-15j  9.43689571e-16+2.13913876e+00j\n",
            "  0.00000000e+00-3.55271368e-15j  0.00000000e+00+0.00000000e+00j\n",
            "  0.00000000e+00+3.55271368e-15j  9.43689571e-16-2.13913876e+00j\n",
            " -9.43689571e-16+1.55431223e-15j  0.00000000e+00+4.59937396e+01j]\n",
            "\n",
            "----------\n",
            "1 <=> -1\n",
            "-45.993739632474984j <=> 45.993739632474984j\n",
            "Real part diff:  0.0\n",
            "Imaginary part diff:  0.0\n",
            "----------\n",
            "2 <=> -2\n",
            "(-9.43689570931383e-16-1.5543122344752192e-15j) <=> (-9.43689570931383e-16+1.5543122344752192e-15j)\n",
            "Real part diff:  0.0\n",
            "Imaginary part diff:  0.0\n",
            "----------\n",
            "3 <=> -3\n",
            "(9.43689570931383e-16+2.1391387566259628j) <=> (9.43689570931383e-16-2.1391387566259628j)\n",
            "Real part diff:  0.0\n",
            "Imaginary part diff:  0.0\n",
            "----------\n",
            "4 <=> -4\n",
            "-3.552713678800501e-15j <=> 3.552713678800501e-15j\n",
            "Real part diff:  0.0\n",
            "Imaginary part diff:  0.0\n"
          ],
          "name": "stdout"
        }
      ]
    },
    {
      "metadata": {
        "id": "BK7clAeZ4fHs",
        "colab_type": "code",
        "colab": {}
      },
      "cell_type": "code",
      "source": [
        ""
      ],
      "execution_count": 0,
      "outputs": []
    }
  ]
}