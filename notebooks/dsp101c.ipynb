{
  "nbformat": 4,
  "nbformat_minor": 0,
  "metadata": {
    "colab": {
      "name": "dsp101c.ipynb",
      "version": "0.3.2",
      "provenance": [],
      "include_colab_link": true
    },
    "kernelspec": {
      "name": "python3",
      "display_name": "Python 3"
    },
    "accelerator": "GPU"
  },
  "cells": [
    {
      "cell_type": "markdown",
      "metadata": {
        "id": "view-in-github",
        "colab_type": "text"
      },
      "source": [
        "[View in Colaboratory](https://colab.research.google.com/github/rdenadai/dsp_study_notebooks/blob/master/notebooks/dsp101c.ipynb)"
      ]
    },
    {
      "metadata": {
        "id": "B6azsBGP6zwU",
        "colab_type": "text"
      },
      "cell_type": "markdown",
      "source": [
        "## DSP 101c\n",
        "\n",
        "Experiments on Digital Signal Processing, ranging from random generated signals, voice and images!\n",
        "\n",
        "In these experiments, we are not analysing signals in the range of DSP but also with an statistical view...\n",
        "\n",
        "To build this document we use a lot of resources, here are some of the most important.\n",
        "- References:\n",
        " - [DSP Guide](http://www.dspguide.com)\n",
        " - [DSP Tutorial](https://www.tutorialspoint.com/digital_signal_processing/index.htm)\n",
        " - [Plotly FFT Filters](https://plot.ly/python/fft-filters/)\n",
        " - [Digital Signal Processing {youtube}](https://www.youtube.com/playlist?list=PLuh62Q4Sv7BUSzx5Jr8Wrxxn-U10qG1et)\n",
        " - [Signal Processing 101 {youtube}](https://www.youtube.com/watch?v=KZd68xgasIU&list=PLJ-OcUCIty7evBmHvYRv66RcuziszpSFB)\n",
        " - [All Signal Processing {youtube}](https://www.youtube.com/user/allsignalprocessing/playlists)\n"
      ]
    },
    {
      "metadata": {
        "id": "mQtD2yN66xPu",
        "colab_type": "code",
        "colab": {}
      },
      "cell_type": "code",
      "source": [
        "import math\n",
        "import random\n",
        "import numpy as np\n",
        "import pandas as pd\n",
        "from scipy.stats import norm\n",
        "from scipy.signal import resample\n",
        "from scipy import interpolate\n",
        "from scipy import signal\n",
        "import matplotlib.pyplot as plt\n",
        "import matplotlib.image as mpimg\n",
        "from mpl_toolkits.axes_grid1 import ImageGrid\n",
        "from IPython.display import Audio\n",
        "\n",
        "%matplotlib inline\n",
        "\n",
        "def normalization(x, m=255):\n",
        "    return (((x - min(x)) / (max(x) - min(x))) * m).astype('int64')\n",
        "\n",
        "def normalization2(x, a, b):\n",
        "    return (a + (((x - min(x)) * (b - a)) / (max(x) - min(x)))).astype('float64')"
      ],
      "execution_count": 0,
      "outputs": []
    },
    {
      "metadata": {
        "id": "TrZo300j65si",
        "colab_type": "code",
        "colab": {}
      },
      "cell_type": "code",
      "source": [
        "def sine(A=4096, f=1, t=1, Fs=1024, phi=0):\n",
        "    # A = 4096              # amplitude (deslocamento vertical)\n",
        "    # phi = 0               # fase (deslocamento horizontal)\n",
        "    # f = 1                 # frequencia em hz (quantas oscilações em 1 segundo)\n",
        "    # t = 1                 # tempo em segundos\n",
        "    # Fs = 200              # frequencia de amostragem (pontos por segundo)\n",
        "    n = np.arange(Fs * t)\n",
        "    return (A * np.sin((((2 * np.pi * f) * n) / Fs) + phi)).astype('int64')\n",
        "\n",
        "def resamp_presenter(x, num):\n",
        "    y = np.zeros(x.size)\n",
        "    y[y==0] = np.nan\n",
        "    y[::num] = x[::num]\n",
        "    return y, math.ceil(len(x) / num)\n",
        "\n",
        "def resamp(x, num):\n",
        "    return x[::num]"
      ],
      "execution_count": 0,
      "outputs": []
    },
    {
      "metadata": {
        "id": "d5jGpZrx7DWE",
        "colab_type": "text"
      },
      "cell_type": "markdown",
      "source": [
        "## Discrete Fourier Transform\n",
        "\n",
        "> \"*In mathematics, the discrete Fourier transform (DFT) converts a finite sequence of equally-spaced samples of a function into a same-length sequence of equally-spaced samples of the discrete-time Fourier transform (DTFT), which is a complex-valued function of frequency.*\" [wiki](https://en.wikipedia.org/wiki/Discrete_Fourier_transform)"
      ]
    },
    {
      "metadata": {
        "id": "W9Sq_ZIx66Mb",
        "colab_type": "code",
        "colab": {}
      },
      "cell_type": "code",
      "source": [
        ""
      ],
      "execution_count": 0,
      "outputs": []
    }
  ]
}